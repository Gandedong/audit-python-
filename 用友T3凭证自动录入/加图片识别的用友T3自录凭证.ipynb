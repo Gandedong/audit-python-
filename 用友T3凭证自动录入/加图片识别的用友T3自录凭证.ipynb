{
 "cells": [
  {
   "cell_type": "code",
   "execution_count": 4,
   "id": "9e52ea8e",
   "metadata": {},
   "outputs": [
    {
     "name": "stderr",
     "output_type": "stream",
     "text": [
      "<ipython-input-4-0cbc76f7e7d3>:9: DeprecationWarning: Call to deprecated function get_sheet_by_name (Use wb[sheetname]).\n",
      "  sheet = wb.get_sheet_by_name(\"录入分录明细\")\n"
     ]
    },
    {
     "name": "stdout",
     "output_type": "stream",
     "text": [
      "i=2,str(sheet.cell(x,4).value)\n",
      "i=3,str(sheet.cell(x,5).value)\n",
      "i=4,保存赁证\n",
      "i=5,str(sheet.cell(x,4).value)\n",
      "i=6,str(sheet.cell(x,4).value)\n"
     ]
    },
    {
     "ename": "FailSafeException",
     "evalue": "PyAutoGUI fail-safe triggered from mouse moving to a corner of the screen. To disable this fail-safe, set pyautogui.FAILSAFE to False. DISABLING FAIL-SAFE IS NOT RECOMMENDED.",
     "output_type": "error",
     "traceback": [
      "\u001b[1;31m---------------------------------------------------------------------------\u001b[0m",
      "\u001b[1;31mFailSafeException\u001b[0m                         Traceback (most recent call last)",
      "\u001b[1;32m<ipython-input-4-0cbc76f7e7d3>\u001b[0m in \u001b[0;36m<module>\u001b[1;34m\u001b[0m\n\u001b[0;32m     37\u001b[0m         \u001b[0mpag\u001b[0m\u001b[1;33m.\u001b[0m\u001b[0mtypewrite\u001b[0m\u001b[1;33m(\u001b[0m\u001b[0mstr\u001b[0m\u001b[1;33m(\u001b[0m\u001b[0msheet\u001b[0m\u001b[1;33m.\u001b[0m\u001b[0mcell\u001b[0m\u001b[1;33m(\u001b[0m\u001b[0mx\u001b[0m\u001b[1;33m,\u001b[0m\u001b[1;36m5\u001b[0m\u001b[1;33m)\u001b[0m\u001b[1;33m.\u001b[0m\u001b[0mvalue\u001b[0m\u001b[1;33m)\u001b[0m\u001b[1;33m)\u001b[0m\u001b[1;31m##输入贷方\u001b[0m\u001b[1;33m\u001b[0m\u001b[1;33m\u001b[0m\u001b[0m\n\u001b[0;32m     38\u001b[0m         \u001b[0mpag\u001b[0m\u001b[1;33m.\u001b[0m\u001b[0mhotkey\u001b[0m\u001b[1;33m(\u001b[0m\u001b[1;34m'Enter'\u001b[0m\u001b[1;33m)\u001b[0m\u001b[1;31m##回车\u001b[0m\u001b[1;33m\u001b[0m\u001b[1;33m\u001b[0m\u001b[0m\n\u001b[1;32m---> 39\u001b[1;33m         \u001b[0mpag\u001b[0m\u001b[1;33m.\u001b[0m\u001b[0mhotkey\u001b[0m\u001b[1;33m(\u001b[0m\u001b[1;34m'Backspace'\u001b[0m\u001b[1;33m)\u001b[0m\u001b[1;33m\u001b[0m\u001b[1;33m\u001b[0m\u001b[0m\n\u001b[0m\u001b[0;32m     40\u001b[0m         \u001b[0mprint\u001b[0m\u001b[1;33m(\u001b[0m\u001b[1;34mf\"i={x},str(sheet.cell(x,5).value)\"\u001b[0m\u001b[1;33m)\u001b[0m\u001b[1;33m\u001b[0m\u001b[1;33m\u001b[0m\u001b[0m\n\u001b[0;32m     41\u001b[0m     \u001b[1;32melse\u001b[0m\u001b[1;33m:\u001b[0m\u001b[1;33m\u001b[0m\u001b[1;33m\u001b[0m\u001b[0m\n",
      "\u001b[1;32mC:\\ProgramData\\Anaconda3.3\\lib\\site-packages\\pyautogui\\__init__.py\u001b[0m in \u001b[0;36mwrapper\u001b[1;34m(*args, **kwargs)\u001b[0m\n\u001b[0;32m    595\u001b[0m     \u001b[1;33m@\u001b[0m\u001b[0mfunctools\u001b[0m\u001b[1;33m.\u001b[0m\u001b[0mwraps\u001b[0m\u001b[1;33m(\u001b[0m\u001b[0mwrappedFunction\u001b[0m\u001b[1;33m)\u001b[0m\u001b[1;33m\u001b[0m\u001b[1;33m\u001b[0m\u001b[0m\n\u001b[0;32m    596\u001b[0m     \u001b[1;32mdef\u001b[0m \u001b[0mwrapper\u001b[0m\u001b[1;33m(\u001b[0m\u001b[1;33m*\u001b[0m\u001b[0margs\u001b[0m\u001b[1;33m,\u001b[0m \u001b[1;33m**\u001b[0m\u001b[0mkwargs\u001b[0m\u001b[1;33m)\u001b[0m\u001b[1;33m:\u001b[0m\u001b[1;33m\u001b[0m\u001b[1;33m\u001b[0m\u001b[0m\n\u001b[1;32m--> 597\u001b[1;33m         \u001b[0mfailSafeCheck\u001b[0m\u001b[1;33m(\u001b[0m\u001b[1;33m)\u001b[0m\u001b[1;33m\u001b[0m\u001b[1;33m\u001b[0m\u001b[0m\n\u001b[0m\u001b[0;32m    598\u001b[0m         \u001b[0mreturnVal\u001b[0m \u001b[1;33m=\u001b[0m \u001b[0mwrappedFunction\u001b[0m\u001b[1;33m(\u001b[0m\u001b[1;33m*\u001b[0m\u001b[0margs\u001b[0m\u001b[1;33m,\u001b[0m \u001b[1;33m**\u001b[0m\u001b[0mkwargs\u001b[0m\u001b[1;33m)\u001b[0m\u001b[1;33m\u001b[0m\u001b[1;33m\u001b[0m\u001b[0m\n\u001b[0;32m    599\u001b[0m         \u001b[0m_handlePause\u001b[0m\u001b[1;33m(\u001b[0m\u001b[0mkwargs\u001b[0m\u001b[1;33m.\u001b[0m\u001b[0mget\u001b[0m\u001b[1;33m(\u001b[0m\u001b[1;34m\"_pause\"\u001b[0m\u001b[1;33m,\u001b[0m \u001b[1;32mTrue\u001b[0m\u001b[1;33m)\u001b[0m\u001b[1;33m)\u001b[0m\u001b[1;33m\u001b[0m\u001b[1;33m\u001b[0m\u001b[0m\n",
      "\u001b[1;32mC:\\ProgramData\\Anaconda3.3\\lib\\site-packages\\pyautogui\\__init__.py\u001b[0m in \u001b[0;36mfailSafeCheck\u001b[1;34m()\u001b[0m\n\u001b[0;32m   1720\u001b[0m \u001b[1;32mdef\u001b[0m \u001b[0mfailSafeCheck\u001b[0m\u001b[1;33m(\u001b[0m\u001b[1;33m)\u001b[0m\u001b[1;33m:\u001b[0m\u001b[1;33m\u001b[0m\u001b[1;33m\u001b[0m\u001b[0m\n\u001b[0;32m   1721\u001b[0m     \u001b[1;32mif\u001b[0m \u001b[0mFAILSAFE\u001b[0m \u001b[1;32mand\u001b[0m \u001b[0mtuple\u001b[0m\u001b[1;33m(\u001b[0m\u001b[0mposition\u001b[0m\u001b[1;33m(\u001b[0m\u001b[1;33m)\u001b[0m\u001b[1;33m)\u001b[0m \u001b[1;32min\u001b[0m \u001b[0mFAILSAFE_POINTS\u001b[0m\u001b[1;33m:\u001b[0m\u001b[1;33m\u001b[0m\u001b[1;33m\u001b[0m\u001b[0m\n\u001b[1;32m-> 1722\u001b[1;33m         raise FailSafeException(\n\u001b[0m\u001b[0;32m   1723\u001b[0m             \u001b[1;34m\"PyAutoGUI fail-safe triggered from mouse moving to a corner of the screen. To disable this fail-safe, set pyautogui.FAILSAFE to False. DISABLING FAIL-SAFE IS NOT RECOMMENDED.\"\u001b[0m\u001b[1;33m\u001b[0m\u001b[1;33m\u001b[0m\u001b[0m\n\u001b[0;32m   1724\u001b[0m         )\n",
      "\u001b[1;31mFailSafeException\u001b[0m: PyAutoGUI fail-safe triggered from mouse moving to a corner of the screen. To disable this fail-safe, set pyautogui.FAILSAFE to False. DISABLING FAIL-SAFE IS NOT RECOMMENDED."
     ]
    }
   ],
   "source": [
    "import pyautogui as pag  ##先用pip3 install python3-xlib，\n",
    "#再用pip3 install pyautogui进行安装\n",
    "import pyperclip\n",
    "import openpyxl\n",
    "pag.PAUSE = 0.7# pyautogui.PAUSE函数在pyautogui中含义是每一步停留时间间隔，\n",
    "#模块默认值是0.1秒，不过我用的财务软件反应不过来，因此延长了时间设置成了0.5秒。\n",
    "pag.FAILSAFE = True\n",
    "wb = openpyxl.load_workbook(\"凭证录入模块.xlsx\", data_only=True)\n",
    "sheet = wb.get_sheet_by_name(\"录入分录明细\")\n",
    "max_row = sheet.max_row# 读取excel中的最大行\n",
    "max_column=sheet.max_column##读取最大列\n",
    "T2 = pag.locateOnScreen(r\"images\\sad.png\",grayscale=True)##图片识别保存按钮,参数grayscale=True为灰度匹配\n",
    "c2 = pag.center(T2) # 寻找图片的中心2 \n",
    "T1 = pag.locateOnScreen(r\"images\\add.png\",grayscale=True)##图片识别增加按钮\n",
    "c1 = pag.center(T1) # 寻找图片的中心 1\n",
    "pag.click(c1) # 增加凭证\")\n",
    "pag.hotkey('Enter')##回车 \n",
    "pag.hotkey('Enter')##回车 \n",
    "pag.hotkey('Enter')##回车 \n",
    "for x in range(2,max_row+1):\n",
    "    if sheet.cell(x,3).value is None:\n",
    "        pag.click(c2,duration=0.5) # 点击保存,停顿0.5秒\n",
    "        pag.click(c1) # 增加凭证\"\n",
    "        pag.hotkey('Enter')##回车 \n",
    "        pag.hotkey('Enter')##回车 \n",
    "        pag.hotkey('Enter')##回车 \n",
    "        print(f\"i={x},保存赁证\")\n",
    "        continue\n",
    "    if sheet.cell(x,3).value==\"贷\":\n",
    "        pag.hotkey('Backspace')\n",
    "        pyperclip.copy(str(sheet.cell(x,1).value))##复制EXCEL中的摘要\n",
    "        pag.hotkey('ctrl','v')##粘贴单元格\n",
    "        pag.hotkey('Tab')###回车 ##热键Tab到科目代码栏\n",
    "        pag.typewrite(str(sheet.cell(x,2).value))##输入科目代码\n",
    "        pag.hotkey('Tab')###回车 ##热键Tab到科目代码栏\n",
    "        pag.hotkey('Tab')###回车 ##热nONE键Tab到科目代码栏\n",
    "        pag.typewrite(str(sheet.cell(x,5).value))##输入贷方\n",
    "        pag.hotkey('Enter')##回车\n",
    "        pag.hotkey('Backspace')\n",
    "        print(f\"i={x},str(sheet.cell(x,5).value)\")\n",
    "    else:\n",
    "        pag.hotkey('Backspace')\n",
    "        pyperclip.copy(str(sheet.cell(x,1).value))##复制EXCEL中的摘要\n",
    "        pag.hotkey('ctrl','v')##粘贴单元格\n",
    "        pag.hotkey('Tab')###回车 ##热键Tab到科目代码栏\n",
    "        pag.typewrite(str(sheet.cell(x,2).value))##输入科目代码\n",
    "        pag.hotkey('Tab')###回车 ##热键Tab到科目代码栏\n",
    "        pag.typewrite(str(sheet.cell(x,4).value))##输入借方\n",
    "        pag.hotkey('Enter')##回车\n",
    "        print(f\"i={x},str(sheet.cell(x,4).value)\")"
   ]
  },
  {
   "cell_type": "code",
   "execution_count": 2,
   "id": "36df2bbb",
   "metadata": {},
   "outputs": [
    {
     "name": "stdout",
     "output_type": "stream",
     "text": [
      "Box(left=748, top=350, width=33, height=49)\n",
      "Point(x=764, y=374)\n"
     ]
    }
   ],
   "source": [
    "import pyautogui as pag  ##先用pip3 install python3-xlib，\n",
    "import cv2\n",
    "T1 = pag.locateOnScreen(r\"images\\add.png\",grayscale=True)\n",
    "c1 = pag.center(T1) # 寻找图片的中心 1\n",
    "print(T1)\n",
    "print(c1)"
   ]
  },
  {
   "cell_type": "code",
   "execution_count": 3,
   "id": "a7b4b314",
   "metadata": {},
   "outputs": [
    {
     "name": "stdout",
     "output_type": "stream",
     "text": [
      "Point(x=794, y=374)\n"
     ]
    }
   ],
   "source": [
    "T2 = pag.locateOnScreen(r\"images\\sad.png\",grayscale=True)\n",
    "c2 = pag.center(T2) # 寻找图片的中心2 \n",
    "print(c2)"
   ]
  },
  {
   "cell_type": "code",
   "execution_count": 128,
   "id": "2dbe4e08",
   "metadata": {},
   "outputs": [
    {
     "data": {
      "image/png": "[encoded data removed]",
      "text/plain": [
       "<PIL.Image.Image image mode=RGB size=33x49 at 0x2026CEE1610>"
      ]
     },
     "execution_count": 128,
     "metadata": {},
     "output_type": "execute_result"
    }
   ],
   "source": [
    "import pyautogui\n",
    "img_path = r'C:\\Users\\Administrator\\Desktop\\事例\\用友T3凭证自动录入\\images\\sad.png'\n",
    "# 截图\n",
    "im = pyautogui.screenshot(region=(778, 350, 33 ,49))\n",
    "# 保存图片\n",
    "im.save(img_path)\n",
    "im"
   ]
  },
  {
   "cell_type": "code",
   "execution_count": 117,
   "id": "a4f84ab3",
   "metadata": {},
   "outputs": [
    {
     "data": {
      "image/png": "[encoded data removed]",
      "text/plain": [
       "<PIL.Image.Image image mode=RGB size=33x49 at 0x2026CF178E0>"
      ]
     },
     "execution_count": 117,
     "metadata": {},
     "output_type": "execute_result"
    }
   ],
   "source": [
    "import pyautogui\n",
    "img_path = r'C:\\Users\\Administrator\\Desktop\\事例\\用友T3凭证自动录入\\images\\add.png'\n",
    "# 截图\n",
    "im = pyautogui.screenshot(region=(748, 350, 33 ,49))\n",
    "# 保存图片\n",
    "im.save(img_path)\n",
    "im"
   ]
  },
  {
   "cell_type": "code",
   "execution_count": null,
   "id": "6d1284c6",
   "metadata": {},
   "outputs": [],
   "source": []
  }
 ],
 "metadata": {
  "kernelspec": {
   "display_name": "Python 3",
   "language": "python",
   "name": "python3"
  },
  "language_info": {
   "codemirror_mode": {
    "name": "ipython",
    "version": 3
   },
   "file_extension": ".py",
   "mimetype": "text/x-python",
   "name": "python",
   "nbconvert_exporter": "python",
   "pygments_lexer": "ipython3",
   "version": "3.8.8"
  }
 },
 "nbformat": 4,
 "nbformat_minor": 5
}
