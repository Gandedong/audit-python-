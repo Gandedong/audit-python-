{
 "cells": [
  {
   "cell_type": "code",
   "execution_count": null,
   "id": "bdf17321",
   "metadata": {},
   "outputs": [],
   "source": [
    "#批量读取发票，然后汇总成一个CSV文件\n",
    "import camelot\n",
    "import pandas as pd \n",
    "import os\n",
    "##定义文件夹位置\n",
    "directoryPath = r'E:\\py读取pdf发票汇总'##如果改为=os.getcwd()表示当前文件夹\n",
    "os.chdir(directoryPath)\n",
    "print(os.listdir())##列取该文件夹下所有文件名称\n",
    "folderList = os.listdir(directoryPath)\n",
    "for folders, sub_folders, file in os.walk(directoryPath):  ##所有文件的路径\n",
    "    for name in file:  ##定义所需文件名\n",
    "        if name.endswith(\".pdf\"):  ##如果文件名是以.pdf结束的话\n",
    "            filename = os.path.join(folders,name) ##定义这条路径\n",
    "            print(filename)##输出文件路径\n",
    "            print(name)##输出文件名\n",
    "            tables = camelot.read_pdf(filename,shift_text=[''],strip_text='\\n')##读取pdf文件，\n",
    "            df01= tables[0].df##转换为DF表格\n",
    "            df01.to_csv('foo2.csv',mode=\"a\",encoding=\"utf_8_sig\")##保存为CSV格式，以直接使参数mode='a’实现每个表追加数据，"
   ]
  },
  {
   "cell_type": "code",
   "execution_count": null,
   "id": "869323b6",
   "metadata": {},
   "outputs": [],
   "source": [
    "##批量读取增值税申报表\n",
    "directoryPath =os.getcwd()\n",
    "folderList = os.listdir(directoryPath)\n",
    "for name in folderList:\n",
    "    if '增值税'and\".pdf\" in name:\n",
    "        filename = os.path.join(directoryPath,name)\n",
    "        print(filename)##输出文件路径\n",
    "        print(name)##输出文件名\n",
    "        tables = camelot.read_pdf(name,pages='1')##读取pdf文件，\n",
    "tables[0].df\n",
    "tables[0].df\n",
    "df01=tables[0].df\n",
    "df02=df01.iloc[[4,5,9]]\n",
    "df02"
   ]
  }
 ],
 "metadata": {
  "kernelspec": {
   "display_name": "Python 3",
   "language": "python",
   "name": "python3"
  },
  "language_info": {
   "codemirror_mode": {
    "name": "ipython",
    "version": 3
   },
   "file_extension": ".py",
   "mimetype": "text/x-python",
   "name": "python",
   "nbconvert_exporter": "python",
   "pygments_lexer": "ipython3",
   "version": "3.8.8"
  }
 },
 "nbformat": 4,
 "nbformat_minor": 5
}
