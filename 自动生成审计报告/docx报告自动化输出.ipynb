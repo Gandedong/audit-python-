{
 "cells": [
  {
   "cell_type": "code",
   "execution_count": 15,
   "id": "15fe12ef",
   "metadata": {},
   "outputs": [],
   "source": [
    "import pandas as pd\n",
    "from docxtpl import DocxTemplate\n",
    "\n",
    "df01=pd.read_excel(\"导入数据.xlsx\")#导入表格，偏码为简体\n",
    "df02 = df01.to_dict(orient=\"records\")##数据转化成字典\n",
    "for i in df02:\n",
    "    tpl = DocxTemplate('内审报告模板03.docx')  ##导入Word文档\n",
    "    tpl.render(i)                       ##将字典替换Word标签\n",
    "    tpl.save(i['公司名称']+'.docx')     ##按公司保存Word文档"
   ]
  },
  {
   "cell_type": "code",
   "execution_count": 14,
   "id": "6ecfa105",
   "metadata": {},
   "outputs": [
    {
     "data": {
      "text/plain": [
       "[{'公司名称': '张三有限公司',\n",
       "  '项目编号': 100101,\n",
       "  '被审计部门': '网络工程部',\n",
       "  '报告时间': '2021年07月25日',\n",
       "  '期间范围': '2020年1月1日至2020年12月31日',\n",
       "  '期末流动资产减少': 1000,\n",
       "  '货币资金减少': 80,\n",
       "  '存货减少': 50,\n",
       "  '非流动资产增加': 70},\n",
       " {'公司名称': '李四有限公司',\n",
       "  '项目编号': 100202,\n",
       "  '被审计部门': '销售部',\n",
       "  '报告时间': '2021年07月26日',\n",
       "  '期间范围': '2020年1月1日至2020年12月31日',\n",
       "  '期末流动资产减少': 2000,\n",
       "  '货币资金减少': 80,\n",
       "  '存货减少': 50,\n",
       "  '非流动资产增加': 70}]"
      ]
     },
     "execution_count": 14,
     "metadata": {},
     "output_type": "execute_result"
    }
   ],
   "source": [
    "df02"
   ]
  },
  {
   "cell_type": "code",
   "execution_count": null,
   "id": "44cf9111",
   "metadata": {},
   "outputs": [],
   "source": []
  }
 ],
 "metadata": {
  "kernelspec": {
   "display_name": "Python 3",
   "language": "python",
   "name": "python3"
  },
  "language_info": {
   "codemirror_mode": {
    "name": "ipython",
    "version": 3
   },
   "file_extension": ".py",
   "mimetype": "text/x-python",
   "name": "python",
   "nbconvert_exporter": "python",
   "pygments_lexer": "ipython3",
   "version": "3.8.8"
  }
 },
 "nbformat": 4,
 "nbformat_minor": 5
}
